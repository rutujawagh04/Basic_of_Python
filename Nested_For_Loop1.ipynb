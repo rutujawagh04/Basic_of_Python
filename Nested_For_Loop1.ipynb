{
  "nbformat": 4,
  "nbformat_minor": 0,
  "metadata": {
    "colab": {
      "provenance": []
    },
    "kernelspec": {
      "name": "python3",
      "display_name": "Python 3"
    },
    "language_info": {
      "name": "python"
    }
  },
  "cells": [
    {
      "cell_type": "code",
      "execution_count": 1,
      "metadata": {
        "colab": {
          "base_uri": "https://localhost:8080/"
        },
        "id": "l8Cez71Ejen9",
        "outputId": "b6247d7b-f8d3-4b9b-b633-8d80ad108fab"
      },
      "outputs": [
        {
          "output_type": "stream",
          "name": "stdout",
          "text": [
            "1\t2\t3\t4\t5\t6\t7\t8\t9\t10\t\n",
            "2\t4\t6\t8\t10\t12\t14\t16\t18\t20\t\n",
            "3\t6\t9\t12\t15\t18\t21\t24\t27\t30\t\n",
            "4\t8\t12\t16\t20\t24\t28\t32\t36\t40\t\n",
            "5\t10\t15\t20\t25\t30\t35\t40\t45\t50\t\n"
          ]
        }
      ],
      "source": [
        "#Multiplication Table:\n",
        "#Write a program using nested loops to generate the multiplication table (up to 10) for numbers from 1 to 5.\n",
        "for i in range(1, 6):\n",
        "    for j in range(1, 11):\n",
        "        print(i * j, end='\\t')\n",
        "    print()"
      ]
    },
    {
      "cell_type": "code",
      "source": [
        "#Triangle Pattern:\n",
        "#Create a program to print a right-angled triangle pattern using asterisks. The number of rows should be taken as input from the user.\n",
        "rows = int(input(\"Enter the number of rows: \"))\n",
        "for i in range(1, rows + 1):\n",
        "    for j in range(i):\n",
        "        print('*', end='')\n",
        "    print()"
      ],
      "metadata": {
        "colab": {
          "base_uri": "https://localhost:8080/"
        },
        "id": "q5kbLPQwmiQ4",
        "outputId": "fc9dbbd6-37e8-4001-f2a5-83ff41094e57"
      },
      "execution_count": 2,
      "outputs": [
        {
          "output_type": "stream",
          "name": "stdout",
          "text": [
            "Enter the number of rows: 5\n",
            "*\n",
            "**\n",
            "***\n",
            "****\n",
            "*****\n"
          ]
        }
      ]
    },
    {
      "cell_type": "code",
      "source": [
        "#Number Pyramid:\n",
        "#Write a program to generate a numerical pyramid pattern using nested loops. The user should input the height of the pyramid.\n",
        "height = int(input(\"Enter the height of the pyramid: \"))\n",
        "for i in range(1, height + 1):\n",
        "    print(' ' * (height - i) + str(i) * (2 * i - 1))"
      ],
      "metadata": {
        "colab": {
          "base_uri": "https://localhost:8080/"
        },
        "id": "yDVwQzW4nlEe",
        "outputId": "0abafd9b-c008-461b-a90d-0a2d4a0b1435"
      },
      "execution_count": 3,
      "outputs": [
        {
          "output_type": "stream",
          "name": "stdout",
          "text": [
            "Enter the height of the pyramid: 5\n",
            "    1\n",
            "   222\n",
            "  33333\n",
            " 4444444\n",
            "555555555\n"
          ]
        }
      ]
    },
    {
      "cell_type": "code",
      "source": [
        "#Chessboard Pattern:\n",
        "rows = int(input(\"Enter the size of the chessboard (rows): \"))\n",
        "for i in range(1, rows + 1):\n",
        "    for j in range(1, rows + 1):\n",
        "        if (i + j) % 2 == 0:\n",
        "            print('*', end=' ')\n",
        "        else:\n",
        "            print(' ', end=' ')\n",
        "    print()"
      ],
      "metadata": {
        "colab": {
          "base_uri": "https://localhost:8080/"
        },
        "id": "h-h8v3TRoapM",
        "outputId": "8f2f0bd3-8616-4548-ae18-558529be0247"
      },
      "execution_count": 4,
      "outputs": [
        {
          "output_type": "stream",
          "name": "stdout",
          "text": [
            "Enter the size of the chessboard (rows): 5\n",
            "*   *   * \n",
            "  *   *   \n",
            "*   *   * \n",
            "  *   *   \n",
            "*   *   * \n"
          ]
        }
      ]
    },
    {
      "cell_type": "code",
      "source": [
        "#Palindrome Check:\n",
        "word = input(\"Enter a word: \")\n",
        "is_palindrome = True\n",
        "length = len(word)\n",
        "\n",
        "for i in range(length // 2):\n",
        "    if word[i] != word[length - 1 - i]:\n",
        "        is_palindrome = False\n",
        "        break\n",
        "\n",
        "if is_palindrome:\n",
        "    print(\"The word is a palindrome.\")\n",
        "else:\n",
        "    print(\"The word is not a palindrome.\")"
      ],
      "metadata": {
        "colab": {
          "base_uri": "https://localhost:8080/"
        },
        "id": "koFaxDFko7Bg",
        "outputId": "7f02b7bb-5772-4fb0-9ed8-dbcb8d21dd11"
      },
      "execution_count": 5,
      "outputs": [
        {
          "output_type": "stream",
          "name": "stdout",
          "text": [
            "Enter a word: apple\n",
            "The word is not a palindrome.\n"
          ]
        }
      ]
    },
    {
      "cell_type": "code",
      "source": [],
      "metadata": {
        "id": "ScBBmy4UpIV3"
      },
      "execution_count": null,
      "outputs": []
    }
  ]
}