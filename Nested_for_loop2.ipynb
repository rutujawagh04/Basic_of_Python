{
  "nbformat": 4,
  "nbformat_minor": 0,
  "metadata": {
    "colab": {
      "provenance": []
    },
    "kernelspec": {
      "name": "python3",
      "display_name": "Python 3"
    },
    "language_info": {
      "name": "python"
    }
  },
  "cells": [
    {
      "cell_type": "code",
      "execution_count": 1,
      "metadata": {
        "colab": {
          "base_uri": "https://localhost:8080/"
        },
        "id": "bCmLjik1flKs",
        "outputId": "3cd03b8f-4cd6-40a7-bcd3-ed8055687747"
      },
      "outputs": [
        {
          "output_type": "stream",
          "name": "stdout",
          "text": [
            "Sum of matrix elements: 45\n"
          ]
        }
      ],
      "source": [
        "#Sum of Matrix Elements:\n",
        "#Given a 2D matrix, write a program to find and print the sum of all elements using nested loops.\n",
        "matrix = [\n",
        "    [1, 2, 3],\n",
        "    [4, 5, 6],\n",
        "    [7, 8, 9]\n",
        "]\n",
        "\n",
        "total_sum = 0\n",
        "for row in matrix:\n",
        "    for element in row:\n",
        "        total_sum += element\n",
        "\n",
        "print(\"Sum of matrix elements:\", total_sum)"
      ]
    },
    {
      "cell_type": "code",
      "source": [
        "#Pascal's Triangle:\n",
        "#Generate and print Pascal's Triangle up to a given number of rows using nested loops.\n",
        "rows = int(input(\"Enter the number of rows: \"))\n",
        "\n",
        "for i in range(rows):\n",
        "    coef = 1\n",
        "    for j in range(1, rows - i + 1):\n",
        "        print(\" \", end=\"\")\n",
        "    for k in range(0, i + 1):\n",
        "        print(coef, end=\" \")\n",
        "        coef = coef * (i - k) // (k + 1)\n",
        "    print()"
      ],
      "metadata": {
        "colab": {
          "base_uri": "https://localhost:8080/"
        },
        "id": "nUk_FgVmf-3O",
        "outputId": "d3e565e8-70f9-43c1-d4f1-50f39870fca6"
      },
      "execution_count": 2,
      "outputs": [
        {
          "output_type": "stream",
          "name": "stdout",
          "text": [
            "Enter the number of rows: 10\n",
            "          1 \n",
            "         1 1 \n",
            "        1 2 1 \n",
            "       1 3 3 1 \n",
            "      1 4 6 4 1 \n",
            "     1 5 10 10 5 1 \n",
            "    1 6 15 20 15 6 1 \n",
            "   1 7 21 35 35 21 7 1 \n",
            "  1 8 28 56 70 56 28 8 1 \n",
            " 1 9 36 84 126 126 84 36 9 1 \n"
          ]
        }
      ]
    },
    {
      "cell_type": "code",
      "source": [
        "#Diamond Pattern:\n",
        "#Write a program to print a diamond pattern using nested loops. The user should input the height of the diamond.\n",
        "height = int(input(\"Enter the height of the diamond: \"))\n",
        "\n",
        "for i in range(1, height + 1):\n",
        "    print(' ' * (height - i) + '*' * (2 * i - 1))\n",
        "\n",
        "for i in range(height - 1, 0, -1):\n",
        "    print(' ' * (height - i) + '*' * (2 * i - 1))"
      ],
      "metadata": {
        "colab": {
          "base_uri": "https://localhost:8080/"
        },
        "id": "RF4iuuMPgZy3",
        "outputId": "495ca6f2-8459-4a40-f9b8-f6474a31ac99"
      },
      "execution_count": 3,
      "outputs": [
        {
          "output_type": "stream",
          "name": "stdout",
          "text": [
            "Enter the height of the diamond: 5\n",
            "    *\n",
            "   ***\n",
            "  *****\n",
            " *******\n",
            "*********\n",
            " *******\n",
            "  *****\n",
            "   ***\n",
            "    *\n"
          ]
        }
      ]
    },
    {
      "cell_type": "code",
      "source": [
        "#FizzBuzz with Nested Loops:\n",
        "#Write a program to implement the FizzBuzz problem using nested loops for a given range of numbers.\n",
        "for num in range(1, 101):\n",
        "    if num % 3 == 0 and num % 5 == 0:\n",
        "        print(\"FizzBuzz\")\n",
        "    elif num % 3 == 0:\n",
        "        print(\"Fizz\")\n",
        "    elif num % 5 == 0:\n",
        "        print(\"Buzz\")\n",
        "    else:\n",
        "        print(num)"
      ],
      "metadata": {
        "colab": {
          "base_uri": "https://localhost:8080/"
        },
        "id": "6SE2ixMjhELS",
        "outputId": "80df67a4-0fc4-44ef-964f-fd88c8f50459"
      },
      "execution_count": 4,
      "outputs": [
        {
          "output_type": "stream",
          "name": "stdout",
          "text": [
            "1\n",
            "2\n",
            "Fizz\n",
            "4\n",
            "Buzz\n",
            "Fizz\n",
            "7\n",
            "8\n",
            "Fizz\n",
            "Buzz\n",
            "11\n",
            "Fizz\n",
            "13\n",
            "14\n",
            "FizzBuzz\n",
            "16\n",
            "17\n",
            "Fizz\n",
            "19\n",
            "Buzz\n",
            "Fizz\n",
            "22\n",
            "23\n",
            "Fizz\n",
            "Buzz\n",
            "26\n",
            "Fizz\n",
            "28\n",
            "29\n",
            "FizzBuzz\n",
            "31\n",
            "32\n",
            "Fizz\n",
            "34\n",
            "Buzz\n",
            "Fizz\n",
            "37\n",
            "38\n",
            "Fizz\n",
            "Buzz\n",
            "41\n",
            "Fizz\n",
            "43\n",
            "44\n",
            "FizzBuzz\n",
            "46\n",
            "47\n",
            "Fizz\n",
            "49\n",
            "Buzz\n",
            "Fizz\n",
            "52\n",
            "53\n",
            "Fizz\n",
            "Buzz\n",
            "56\n",
            "Fizz\n",
            "58\n",
            "59\n",
            "FizzBuzz\n",
            "61\n",
            "62\n",
            "Fizz\n",
            "64\n",
            "Buzz\n",
            "Fizz\n",
            "67\n",
            "68\n",
            "Fizz\n",
            "Buzz\n",
            "71\n",
            "Fizz\n",
            "73\n",
            "74\n",
            "FizzBuzz\n",
            "76\n",
            "77\n",
            "Fizz\n",
            "79\n",
            "Buzz\n",
            "Fizz\n",
            "82\n",
            "83\n",
            "Fizz\n",
            "Buzz\n",
            "86\n",
            "Fizz\n",
            "88\n",
            "89\n",
            "FizzBuzz\n",
            "91\n",
            "92\n",
            "Fizz\n",
            "94\n",
            "Buzz\n",
            "Fizz\n",
            "97\n",
            "98\n",
            "Fizz\n",
            "Buzz\n"
          ]
        }
      ]
    },
    {
      "cell_type": "code",
      "source": [
        "#Number Pattern:\n",
        "#Create a program to print the following number pattern using nested loops:\n",
        "current_num = 1\n",
        "for i in range(1, 5):\n",
        "    for j in range(1, i + 1):\n",
        "        print(current_num, end=\"\")\n",
        "        current_num += 1\n",
        "    print()"
      ],
      "metadata": {
        "colab": {
          "base_uri": "https://localhost:8080/"
        },
        "id": "phEf_21dhWds",
        "outputId": "f9045857-257f-4f07-bd6a-f6412fcad927"
      },
      "execution_count": 5,
      "outputs": [
        {
          "output_type": "stream",
          "name": "stdout",
          "text": [
            "1\n",
            "23\n",
            "456\n",
            "78910\n"
          ]
        }
      ]
    }
  ]
}