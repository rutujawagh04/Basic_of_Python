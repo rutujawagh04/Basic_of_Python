{
  "nbformat": 4,
  "nbformat_minor": 0,
  "metadata": {
    "colab": {
      "provenance": []
    },
    "kernelspec": {
      "name": "python3",
      "display_name": "Python 3"
    },
    "language_info": {
      "name": "python"
    }
  },
  "cells": [
    {
      "cell_type": "markdown",
      "source": [
        "##DataFrame Creation and Manipulation"
      ],
      "metadata": {
        "id": "-pgZJTYktrun"
      }
    },
    {
      "cell_type": "code",
      "execution_count": 3,
      "metadata": {
        "colab": {
          "base_uri": "https://localhost:8080/"
        },
        "id": "fjej0fZXtY4J",
        "outputId": "d086642c-871d-40d4-95fc-dec234351ec7"
      },
      "outputs": [
        {
          "output_type": "stream",
          "name": "stdout",
          "text": [
            "      Name  Age         City\n",
            "0    Alice   25     New York\n",
            "1      Bob   30  Los Angeles\n",
            "2  Charlie   35      Chicago\n",
            "      Name  Age         City  Salary\n",
            "0    Alice   25     New York   70000\n",
            "1      Bob   30  Los Angeles   80000\n",
            "2  Charlie   35      Chicago   90000\n",
            "      Name  Age         City\n",
            "0    Alice   25     New York\n",
            "1      Bob   30  Los Angeles\n",
            "2  Charlie   35      Chicago\n",
            "  Full Name  Age         City\n",
            "0     Alice   25     New York\n",
            "1       Bob   30  Los Angeles\n",
            "2   Charlie   35      Chicago\n",
            "  Full Name  Age         City\n",
            "2   Charlie   35      Chicago\n",
            "1       Bob   30  Los Angeles\n",
            "0     Alice   25     New York\n"
          ]
        }
      ],
      "source": [
        "import pandas as pd\n",
        "\n",
        "# Create a Dataframe from a dictionary\n",
        "data = {'Name': ['Alice','Bob','Charlie'],\n",
        "        'Age':[25,30,35],\n",
        "        'City':['New York','Los Angeles','Chicago']}\n",
        "df = pd.DataFrame(data)\n",
        "print(df)\n",
        "\n",
        "#Add new column\n",
        "df['Salary']=[70000,80000,90000]\n",
        "print(df)\n",
        "\n",
        "#drop a column\n",
        "df = df.drop('Salary',axis=1)\n",
        "print(df)\n",
        "\n",
        "#Rename a column\n",
        "df = df.rename(columns={'Name':'Full Name'})\n",
        "print(df)\n",
        "\n",
        "#Sort a column\n",
        "df = df.sort_values(by='Age',ascending=False)\n",
        "print(df)"
      ]
    },
    {
      "cell_type": "markdown",
      "source": [
        "##Data Selection and Filtering"
      ],
      "metadata": {
        "id": "Dzqbhcq2tqtA"
      }
    },
    {
      "cell_type": "code",
      "source": [
        "# Select specific rows and columns using .loc and .iloc\n",
        "# .loc is label based\n",
        "# .iloc is integer based\n",
        "Selected_data_loc = df.loc[0:1,['Full Name','Age']]\n",
        "print(Selected_data_loc)\n",
        "\n",
        "Selected_data_iloc = df.iloc[0:2,0:2]\n",
        "print(Selected_data_iloc)\n",
        "\n",
        "# Filter rows based on a condition\n",
        "filtered_data = df[df['Age']>25]\n",
        "print(filtered_data)\n",
        "\n",
        "# Filter rows based on multiple conditions\n",
        "filtered_data = df[(df['Age']>25) & (df['City']=='New York')]\n",
        "print(filtered_data)\n"
      ],
      "metadata": {
        "colab": {
          "base_uri": "https://localhost:8080/"
        },
        "id": "KP2CuXxVtqQ7",
        "outputId": "c0f07125-7aee-4a2d-8c84-a90371b32655"
      },
      "execution_count": 4,
      "outputs": [
        {
          "output_type": "stream",
          "name": "stdout",
          "text": [
            "Empty DataFrame\n",
            "Columns: [Full Name, Age]\n",
            "Index: []\n",
            "  Full Name  Age\n",
            "2   Charlie   35\n",
            "1       Bob   30\n",
            "  Full Name  Age         City\n",
            "2   Charlie   35      Chicago\n",
            "1       Bob   30  Los Angeles\n",
            "Empty DataFrame\n",
            "Columns: [Full Name, Age, City]\n",
            "Index: []\n"
          ]
        }
      ]
    },
    {
      "cell_type": "markdown",
      "source": [
        "##Data Aggregation and Grouping"
      ],
      "metadata": {
        "id": "SZJyvsgqwksy"
      }
    },
    {
      "cell_type": "code",
      "source": [
        "# Group data by a column and compute aggregate statistics (mean, sum, count)\n",
        "df = pd.DataFrame({'City': ['New York', 'Los Angeles', 'Chicago', 'New York', 'Chicago'],\n",
        "                   'Age': [25, 30, 35, 40, 50]})\n",
        "grouped_data = df.groupby('City').agg({'Age':['mean','sum','count']})\n",
        "print(grouped_data)"
      ],
      "metadata": {
        "colab": {
          "base_uri": "https://localhost:8080/"
        },
        "id": "oifEV2OtwPoA",
        "outputId": "aaaeeec3-bafd-44fe-da82-bea67f9fe27a"
      },
      "execution_count": 5,
      "outputs": [
        {
          "output_type": "stream",
          "name": "stdout",
          "text": [
            "              Age          \n",
            "             mean sum count\n",
            "City                       \n",
            "Chicago      42.5  85     2\n",
            "Los Angeles  30.0  30     1\n",
            "New York     32.5  65     2\n"
          ]
        }
      ]
    },
    {
      "cell_type": "code",
      "source": [
        "# Pivot a df\n",
        "pivot_df = df.pivot_table(index='City',values='Age',aggfunc='mean')\n",
        "print(pivot_df)"
      ],
      "metadata": {
        "colab": {
          "base_uri": "https://localhost:8080/"
        },
        "id": "iVAARbTIxSFU",
        "outputId": "6f4c126d-2560-4c9e-96f3-12a1422c74c2"
      },
      "execution_count": 8,
      "outputs": [
        {
          "output_type": "stream",
          "name": "stdout",
          "text": [
            "              Age\n",
            "City             \n",
            "Chicago      42.5\n",
            "Los Angeles  30.0\n",
            "New York     32.5\n"
          ]
        }
      ]
    },
    {
      "cell_type": "markdown",
      "source": [
        "##Merging and Joining DataFrames"
      ],
      "metadata": {
        "id": "SjVgiCJjx4ab"
      }
    },
    {
      "cell_type": "code",
      "source": [
        "# Merge two DataFrames on a common column\n",
        "df1 = pd.DataFrame({'ID': [1, 2, 3],\n",
        "                    'Name': ['Alice', 'Bob', 'Charlie']})\n",
        "df2 = pd.DataFrame({'ID': [1, 2, 4],\n",
        "                    'Age': [25, 30, 40]})\n",
        "merged_df = pd.merge(df1, df2, on='ID')\n",
        "print(merged_df)\n",
        "\n",
        "# Join two DataFrames based on indexes\n",
        "inner_join = pd.merge(df1,df2, on ='ID', how='inner')\n",
        "outer_join = pd.merge(df1, df2, on='ID', how='outer')\n",
        "left_join = pd.merge(df1, df2, on='ID', how='left')\n",
        "right_join = pd.merge(df1, df2, on='ID', how='right')\n",
        "print(inner_join, outer_join, left_join, right_join, sep='\\n')"
      ],
      "metadata": {
        "colab": {
          "base_uri": "https://localhost:8080/"
        },
        "id": "FOqfWIF8xkKl",
        "outputId": "8ed823cc-b0cb-4cbe-ac2c-44be46431981"
      },
      "execution_count": 9,
      "outputs": [
        {
          "output_type": "stream",
          "name": "stdout",
          "text": [
            "   ID   Name  Age\n",
            "0   1  Alice   25\n",
            "1   2    Bob   30\n",
            "   ID   Name  Age\n",
            "0   1  Alice   25\n",
            "1   2    Bob   30\n",
            "   ID     Name   Age\n",
            "0   1    Alice  25.0\n",
            "1   2      Bob  30.0\n",
            "2   3  Charlie   NaN\n",
            "3   4      NaN  40.0\n",
            "   ID     Name   Age\n",
            "0   1    Alice  25.0\n",
            "1   2      Bob  30.0\n",
            "2   3  Charlie   NaN\n",
            "   ID   Name  Age\n",
            "0   1  Alice   25\n",
            "1   2    Bob   30\n",
            "2   4    NaN   40\n"
          ]
        }
      ]
    },
    {
      "cell_type": "code",
      "source": [],
      "metadata": {
        "id": "MnzyfsJKz7Wq"
      },
      "execution_count": null,
      "outputs": []
    }
  ]
}