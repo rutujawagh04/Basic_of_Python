{
  "nbformat": 4,
  "nbformat_minor": 0,
  "metadata": {
    "colab": {
      "provenance": []
    },
    "kernelspec": {
      "name": "python3",
      "display_name": "Python 3"
    },
    "language_info": {
      "name": "python"
    }
  },
  "cells": [
    {
      "cell_type": "markdown",
      "source": [
        "Find the 3 most profitable companies in the entire world.\n",
        "Output the result along with the corresponding company name.\n",
        "Sort the result based on profits in descending order."
      ],
      "metadata": {
        "id": "6QXrku04dJ1N"
      }
    },
    {
      "cell_type": "code",
      "execution_count": null,
      "metadata": {
        "id": "d-LU9mRddHZ2"
      },
      "outputs": [],
      "source": [
        "# Import your libraries\n",
        "import pandas as pd\n",
        "\n",
        "# Start writing code\n",
        "forbes_global_2010_2014.head()\n",
        "\n",
        "df=forbes_global_2010_2014.sort_values(by=['profits'],ascending=False)\n",
        "df[['company','profits']].head(3)"
      ]
    },
    {
      "cell_type": "code",
      "source": [
        "n=int(input())\n",
        "\n",
        "if n%2!=0:\n",
        "    print(\"Weird\")\n",
        "elif n%2==0 and 2<=n<=5:\n",
        "    print(\"Not Weird\")\n",
        "elif n%2==0 and 6<=n<=20:\n",
        "    print(\"Weird\")\n",
        "elif n%2==0 and n>20:\n",
        "    print(\"Weird\")\n",
        "else:\n",
        "    print(n)"
      ],
      "metadata": {
        "colab": {
          "base_uri": "https://localhost:8080/"
        },
        "id": "7f-bbGQSf-oT",
        "outputId": "b2c24059-c771-4c7f-d659-b97aa542769c"
      },
      "execution_count": 1,
      "outputs": [
        {
          "output_type": "stream",
          "name": "stdout",
          "text": [
            "4\n",
            "Not Weird\n"
          ]
        }
      ]
    },
    {
      "cell_type": "markdown",
      "source": [
        "Write a solution to report all the duplicate emails. Note that it's guaranteed that the email field is not NULL."
      ],
      "metadata": {
        "id": "wISH2aV_6ik3"
      }
    },
    {
      "cell_type": "code",
      "source": [
        "from pickle import FALSE\n",
        "import pandas as pd\n",
        "\n",
        "# Sample data\n",
        "data = {\n",
        "    'id': [1, 2, 3, 4, 5],\n",
        "    'name': ['John', 'Jane', 'Joe', 'Emily', 'Jane'],\n",
        "    'email': ['john@example.com', 'jane@example.com', 'joe@example.com', 'emily@example.com', 'jane@example.com']\n",
        "}\n",
        "\n",
        "# Create DataFrame\n",
        "df = pd.DataFrame(data)\n",
        "\n",
        "# Find duplicate emails\n",
        "duplicates = df[df['email'].duplicated(keep=False)]\n",
        "\n",
        "# Print the duplicate emails\n",
        "print(duplicates['email'])"
      ],
      "metadata": {
        "colab": {
          "base_uri": "https://localhost:8080/"
        },
        "id": "_zKVuSHsf_4u",
        "outputId": "2a56bf62-2601-4df3-fb7c-bb7a9658faf9"
      },
      "execution_count": 2,
      "outputs": [
        {
          "output_type": "stream",
          "name": "stdout",
          "text": [
            "1    jane@example.com\n",
            "4    jane@example.com\n",
            "Name: email, dtype: object\n"
          ]
        }
      ]
    },
    {
      "cell_type": "code",
      "source": [
        "###OR\n",
        "\n",
        "Dup = df.groupby('email').filter(lambda x: len(x)>1)\n",
        "print(Dup)"
      ],
      "metadata": {
        "colab": {
          "base_uri": "https://localhost:8080/"
        },
        "id": "UZqPc-Cu7fqT",
        "outputId": "10f698f1-8622-4c37-cca7-775ef5703112"
      },
      "execution_count": 5,
      "outputs": [
        {
          "output_type": "stream",
          "name": "stdout",
          "text": [
            "   id  name             email\n",
            "1   2  Jane  jane@example.com\n",
            "4   5  Jane  jane@example.com\n"
          ]
        }
      ]
    },
    {
      "cell_type": "markdown",
      "source": [
        "Write a solution to find the employees who earn more than their managers."
      ],
      "metadata": {
        "id": "33Zytyyj7v5I"
      }
    },
    {
      "cell_type": "code",
      "source": [
        "import pandas as pd\n",
        "\n",
        "# Sample data\n",
        "data = {\n",
        "    'id': [1, 2, 3, 4],\n",
        "    'name': ['John', 'Jane', 'Joe', 'Emily'],\n",
        "    'salary': [100000, 80000, 120000, 90000],\n",
        "    'manager_id': [None, 1, 1, 2]\n",
        "}\n",
        "\n",
        "# Create DataFrame\n",
        "df = pd.DataFrame(data)\n",
        "\n",
        "# Self-join the DataFrame to get employee and manager information\n",
        "merged = pd.merge(df, df, left_on='manager_id', right_on='id', suffixes=('_employee','_manager'))\n",
        "\n",
        "# Filter the DataFrame to get the employees who earn more than their managers\n",
        "result = merged[(merged['salary_employee']>merged['salary_manager'])]\n",
        "print(result)"
      ],
      "metadata": {
        "colab": {
          "base_uri": "https://localhost:8080/"
        },
        "id": "d8YlKHUT8Qo2",
        "outputId": "053cb0ec-4659-4084-959b-a9da818f50b4"
      },
      "execution_count": 8,
      "outputs": [
        {
          "output_type": "stream",
          "name": "stdout",
          "text": [
            "   id_employee name_employee  salary_employee  manager_id_employee  \\\n",
            "1            3           Joe           120000                  1.0   \n",
            "2            4         Emily            90000                  2.0   \n",
            "\n",
            "   id_manager name_manager  salary_manager  manager_id_manager  \n",
            "1           1         John          100000                 NaN  \n",
            "2           2         Jane           80000                 1.0  \n"
          ]
        }
      ]
    },
    {
      "cell_type": "markdown",
      "source": [],
      "metadata": {
        "id": "ymardJPZ6iO7"
      }
    }
  ]
}