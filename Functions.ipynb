{
  "nbformat": 4,
  "nbformat_minor": 0,
  "metadata": {
    "colab": {
      "provenance": []
    },
    "kernelspec": {
      "name": "python3",
      "display_name": "Python 3"
    },
    "language_info": {
      "name": "python"
    }
  },
  "cells": [
    {
      "cell_type": "markdown",
      "source": [
        "#Basics of Functions:\n",
        "Function Definition:\n",
        "\n",
        "Functions are defined using the def keyword.\n",
        "###Syntax: def function_name(parameters):"
      ],
      "metadata": {
        "id": "5hfX99Zl1QHf"
      }
    },
    {
      "cell_type": "code",
      "source": [
        "def func(name):\n",
        "  print(\"Hello \"+name+\"!\")\n",
        "\n",
        "func(\"Shubh\")"
      ],
      "metadata": {
        "colab": {
          "base_uri": "https://localhost:8080/"
        },
        "id": "j-pmKm621jIM",
        "outputId": "1923c66e-6429-429f-81ef-8233265573ce"
      },
      "execution_count": null,
      "outputs": [
        {
          "output_type": "stream",
          "name": "stdout",
          "text": [
            "Hello Shubh!\n"
          ]
        }
      ]
    },
    {
      "cell_type": "markdown",
      "source": [
        "#Return Statement:\n",
        "\n",
        "Functions can return values using the return statement.\n",
        "###Syntax: return expression"
      ],
      "metadata": {
        "id": "lAPFpxxj3MFD"
      }
    },
    {
      "cell_type": "code",
      "source": [
        "def add_num(a,b):\n",
        "  return a+b\n",
        "\n",
        "result=add_num(3455,947743)\n",
        "print(result)"
      ],
      "metadata": {
        "colab": {
          "base_uri": "https://localhost:8080/"
        },
        "id": "En_OYyc117KO",
        "outputId": "e0981dae-2264-4c55-cdd7-4733ee22422b"
      },
      "execution_count": null,
      "outputs": [
        {
          "output_type": "stream",
          "name": "stdout",
          "text": [
            "951198\n"
          ]
        }
      ]
    },
    {
      "cell_type": "markdown",
      "source": [
        "#Function Parameters:\n",
        "##Positional Arguments:\n",
        "\n",
        "The most common type of arguments where values are passed based on the order."
      ],
      "metadata": {
        "id": "ypdMlFbA4cJB"
      }
    },
    {
      "cell_type": "code",
      "source": [
        "def power(base, exponent):\n",
        "    return base ** exponent\n",
        "\n",
        "result = power(2, 3)\n",
        "print(result)"
      ],
      "metadata": {
        "colab": {
          "base_uri": "https://localhost:8080/"
        },
        "id": "BBdxqQA93v3V",
        "outputId": "215382da-15ad-4af0-a68a-f584cc565328"
      },
      "execution_count": null,
      "outputs": [
        {
          "output_type": "stream",
          "name": "stdout",
          "text": [
            "8\n"
          ]
        }
      ]
    },
    {
      "cell_type": "markdown",
      "source": [
        "##Keyword Arguments:\n",
        "\n",
        "You can specify arguments by name, allowing you to pass them out of order."
      ],
      "metadata": {
        "id": "YENs3g865ZFl"
      }
    },
    {
      "cell_type": "code",
      "source": [
        "def greet_with_title(name, title):\n",
        "    print(f\"Hello, {title}. {name}!\")\n",
        "\n",
        "greet_with_title(\"John\", title=\"Mr\")"
      ],
      "metadata": {
        "colab": {
          "base_uri": "https://localhost:8080/"
        },
        "id": "h7vzhZNL4i-5",
        "outputId": "e6e50c85-1936-46f9-d67d-e1c9a5d686c2"
      },
      "execution_count": null,
      "outputs": [
        {
          "output_type": "stream",
          "name": "stdout",
          "text": [
            "Hello, Mr. John!\n"
          ]
        }
      ]
    },
    {
      "cell_type": "markdown",
      "source": [
        "##Default Values:\n",
        "\n",
        "You can provide default values for parameters."
      ],
      "metadata": {
        "id": "rh6NUjsZ5kik"
      }
    },
    {
      "cell_type": "code",
      "source": [
        "def greet_with_default(name, greeting=\"Hello\"):\n",
        "    print(f\"{greeting}, {name}!\")\n",
        "\n",
        "greet_with_default(\"John\")"
      ],
      "metadata": {
        "colab": {
          "base_uri": "https://localhost:8080/"
        },
        "id": "Tm-O2I-Y5hj4",
        "outputId": "d328a76a-bbc0-4b0c-ff87-b5caaab7ff88"
      },
      "execution_count": null,
      "outputs": [
        {
          "output_type": "stream",
          "name": "stdout",
          "text": [
            "Hello, John!\n"
          ]
        }
      ]
    },
    {
      "cell_type": "markdown",
      "source": [
        "#Variable Scope:\n",
        "##Local Variables:\n",
        "\n",
        "Variables defined inside a function are local to that function."
      ],
      "metadata": {
        "id": "gZ1IHVBw5_sM"
      }
    },
    {
      "cell_type": "code",
      "source": [
        "def example_function():\n",
        "    local_variable = 10\n",
        "    print(local_variable)\n",
        "\n",
        "example_function()"
      ],
      "metadata": {
        "colab": {
          "base_uri": "https://localhost:8080/"
        },
        "id": "kcbMi8ka5ukD",
        "outputId": "0afac840-9f45-44b8-9be8-53a8a84fdd10"
      },
      "execution_count": null,
      "outputs": [
        {
          "output_type": "stream",
          "name": "stdout",
          "text": [
            "10\n"
          ]
        }
      ]
    },
    {
      "cell_type": "markdown",
      "source": [
        "##Global Variables:\n",
        "\n",
        "Variables defined outside of any function are global."
      ],
      "metadata": {
        "id": "CGduA8qo7YB0"
      }
    },
    {
      "cell_type": "code",
      "source": [
        "global_variable = 20\n",
        "\n",
        "def another_function():\n",
        "    print(global_variable)\n",
        "\n",
        "another_function()"
      ],
      "metadata": {
        "id": "ZjNB6DrR6JvX",
        "colab": {
          "base_uri": "https://localhost:8080/"
        },
        "outputId": "1ee1ed69-4d47-4731-d2e4-a4b229a95067"
      },
      "execution_count": 9,
      "outputs": [
        {
          "output_type": "stream",
          "name": "stdout",
          "text": [
            "20\n"
          ]
        }
      ]
    },
    {
      "cell_type": "markdown",
      "source": [
        "#Advanced Concepts:\n",
        "##Variable-Length Arguments:\n",
        "\n",
        "Functions can accept a variable number of arguments using *args and **kwargs."
      ],
      "metadata": {
        "id": "bzhHC5H27jjL"
      }
    },
    {
      "cell_type": "code",
      "source": [
        "def print_args(*args, **kwargs):\n",
        "    for arg in args:\n",
        "        print(arg)\n",
        "    for key, value in kwargs.items():\n",
        "        print(f\"{key}: {value}\")\n",
        "\n",
        "print_args(1, \"two\", 3.0, name=\"John\", age=25)"
      ],
      "metadata": {
        "colab": {
          "base_uri": "https://localhost:8080/"
        },
        "id": "r4oUJ3GF7o9n",
        "outputId": "b3e4611b-cbaf-472f-c87a-40c2b9acb0dc"
      },
      "execution_count": 10,
      "outputs": [
        {
          "output_type": "stream",
          "name": "stdout",
          "text": [
            "1\n",
            "two\n",
            "3.0\n",
            "name: John\n",
            "age: 25\n"
          ]
        }
      ]
    },
    {
      "cell_type": "markdown",
      "source": [
        "##Lambda Functions:\n",
        "\n",
        "Also known as anonymous functions, created using the lambda keyword."
      ],
      "metadata": {
        "id": "FGZ8lSAi763R"
      }
    },
    {
      "cell_type": "code",
      "source": [
        "square = lambda x: x ** 2\n",
        "print(square(5))  # Output: 25"
      ],
      "metadata": {
        "colab": {
          "base_uri": "https://localhost:8080/"
        },
        "id": "s967Y8VD78FM",
        "outputId": "f7511070-46bc-4eb3-be85-d22b8379810e"
      },
      "execution_count": 11,
      "outputs": [
        {
          "output_type": "stream",
          "name": "stdout",
          "text": [
            "25\n"
          ]
        }
      ]
    },
    {
      "cell_type": "markdown",
      "source": [
        "##Recursion:\n",
        "\n",
        "A function can call itself. Useful for solving problems that can be broken down into smaller instances of the same problem."
      ],
      "metadata": {
        "id": "ywKSRBhN8Bs6"
      }
    },
    {
      "cell_type": "code",
      "source": [
        "def factorial(n):\n",
        "    if n == 0 or n == 1:\n",
        "        return 1\n",
        "    else:\n",
        "        return n * factorial(n - 1)\n",
        "\n",
        "result = factorial(5)\n",
        "print(result)  # Output: 120"
      ],
      "metadata": {
        "colab": {
          "base_uri": "https://localhost:8080/"
        },
        "id": "ORL_L9J98FrJ",
        "outputId": "7ff139e4-3345-477d-8f64-40230706b94a"
      },
      "execution_count": 12,
      "outputs": [
        {
          "output_type": "stream",
          "name": "stdout",
          "text": [
            "120\n"
          ]
        }
      ]
    }
  ]
}