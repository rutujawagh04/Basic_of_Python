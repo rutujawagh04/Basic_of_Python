{
  "nbformat": 4,
  "nbformat_minor": 0,
  "metadata": {
    "colab": {
      "provenance": []
    },
    "kernelspec": {
      "name": "python3",
      "display_name": "Python 3"
    },
    "language_info": {
      "name": "python"
    }
  },
  "cells": [
    {
      "cell_type": "markdown",
      "source": [
        "\n",
        "Write a function that takes two numbers as parameters and returns their sum."
      ],
      "metadata": {
        "id": "DcekWzU-2XR9"
      }
    },
    {
      "cell_type": "code",
      "execution_count": 1,
      "metadata": {
        "colab": {
          "base_uri": "https://localhost:8080/"
        },
        "id": "RXYv5Ao32IkC",
        "outputId": "c8ad77d7-63f5-41c8-ecbf-03699f25d368"
      },
      "outputs": [
        {
          "output_type": "execute_result",
          "data": {
            "text/plain": [
              "5"
            ]
          },
          "metadata": {},
          "execution_count": 1
        }
      ],
      "source": [
        "def sum(a,b):\n",
        "  return a+b\n",
        "\n",
        "sum(3,2)"
      ]
    },
    {
      "cell_type": "markdown",
      "source": [
        "Write a function that takes a list of numbers and returns both the sum and the average of the numbers."
      ],
      "metadata": {
        "id": "ffM8VnGA246c"
      }
    },
    {
      "cell_type": "code",
      "source": [
        "import builtins\n",
        "def calculate_sum_and_average(numbers):\n",
        "    total = builtins.sum(numbers)\n",
        "    average = total / len(numbers)\n",
        "    return total, average\n",
        "\n",
        "numbers_list = [2, 4, 6, 8, 10]\n",
        "total_sum, avg = calculate_sum_and_average(numbers_list)\n",
        "print(\"Sum:\", total_sum)\n",
        "print(\"Average:\", avg)"
      ],
      "metadata": {
        "colab": {
          "base_uri": "https://localhost:8080/"
        },
        "id": "qVmoQZuU2gcG",
        "outputId": "343a0e89-e2d1-4377-85db-e5742bf9df1d"
      },
      "execution_count": 5,
      "outputs": [
        {
          "output_type": "stream",
          "name": "stdout",
          "text": [
            "Sum: 30\n",
            "Average: 6.0\n"
          ]
        }
      ]
    },
    {
      "cell_type": "markdown",
      "source": [
        "Modify a function to have default values for some parameters."
      ],
      "metadata": {
        "id": "ahO5IaKD4fEU"
      }
    },
    {
      "cell_type": "code",
      "source": [
        "def greet_with_default(name, greeting=\"Hello\"):\n",
        "    print(f\"{greeting}, {name}!\")\n",
        "\n",
        "greet_with_default(\"John\")  # Output: Hello, John!\n",
        "greet_with_default(\"John\", greeting=\"Good morning\")  # Output: Good morning, John!"
      ],
      "metadata": {
        "colab": {
          "base_uri": "https://localhost:8080/"
        },
        "id": "lU9bphpA3uqS",
        "outputId": "db6fa673-c7ba-4f21-98c5-34777d469a13"
      },
      "execution_count": 6,
      "outputs": [
        {
          "output_type": "stream",
          "name": "stdout",
          "text": [
            "Hello, John!\n",
            "Good morning, John!\n"
          ]
        }
      ]
    },
    {
      "cell_type": "markdown",
      "source": [
        "Write a lambda function that squares a given number."
      ],
      "metadata": {
        "id": "mLYnWMnu5D05"
      }
    },
    {
      "cell_type": "code",
      "source": [
        "square = lambda x: x ** 2\n",
        "print(square(5))  # Output: 25"
      ],
      "metadata": {
        "colab": {
          "base_uri": "https://localhost:8080/"
        },
        "id": "fZT0KHoC4P83",
        "outputId": "09444890-dca2-4f5d-d200-ef1be23d8e37"
      },
      "execution_count": 9,
      "outputs": [
        {
          "output_type": "stream",
          "name": "stdout",
          "text": [
            "25\n"
          ]
        }
      ]
    },
    {
      "cell_type": "markdown",
      "source": [
        "Write a recursive function to calculate the nth Fibonacci number."
      ],
      "metadata": {
        "id": "YWBIb2Ul5x3r"
      }
    },
    {
      "cell_type": "code",
      "source": [
        "def Fibonacci(n):\n",
        "  if n<=0:\n",
        "    return n\n",
        "  else:\n",
        "    return Fibonacci(n-1) + Fibonacci(n-2)\n",
        "\n",
        "Fibonacci(10)"
      ],
      "metadata": {
        "colab": {
          "base_uri": "https://localhost:8080/"
        },
        "id": "eTqdnsZA5j9n",
        "outputId": "53a154b5-a7af-452e-8a88-f965998e9889"
      },
      "execution_count": 13,
      "outputs": [
        {
          "output_type": "execute_result",
          "data": {
            "text/plain": [
              "-55"
            ]
          },
          "metadata": {},
          "execution_count": 13
        }
      ]
    },
    {
      "cell_type": "markdown",
      "source": [
        "Write a function that accepts a variable number of arguments and prints each one."
      ],
      "metadata": {
        "id": "7ZafS6lc8Nb4"
      }
    },
    {
      "cell_type": "code",
      "source": [
        "def print_args(*args):\n",
        "    for arg in args:\n",
        "        print(arg)\n",
        "\n",
        "print_args(1, \"two\", 3.0, \"four\")\n"
      ],
      "metadata": {
        "colab": {
          "base_uri": "https://localhost:8080/"
        },
        "id": "5Ioa1DaI7sFH",
        "outputId": "8aa2d19d-7ead-46c3-de4d-b9733e7f3bf8"
      },
      "execution_count": 14,
      "outputs": [
        {
          "output_type": "stream",
          "name": "stdout",
          "text": [
            "1\n",
            "two\n",
            "3.0\n",
            "four\n"
          ]
        }
      ]
    }
  ]
}