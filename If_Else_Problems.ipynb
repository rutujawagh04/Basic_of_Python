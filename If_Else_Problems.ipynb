{
  "nbformat": 4,
  "nbformat_minor": 0,
  "metadata": {
    "colab": {
      "provenance": []
    },
    "kernelspec": {
      "name": "python3",
      "display_name": "Python 3"
    },
    "language_info": {
      "name": "python"
    }
  },
  "cells": [
    {
      "cell_type": "markdown",
      "source": [
        "Temperature Adviser:"
      ],
      "metadata": {
        "id": "Fp7UltNCuoge"
      }
    },
    {
      "cell_type": "code",
      "execution_count": 1,
      "metadata": {
        "colab": {
          "base_uri": "https://localhost:8080/"
        },
        "id": "k3HhsG_Tug7S",
        "outputId": "f3bb0a20-d7f0-498d-f859-160eafb9d16a"
      },
      "outputs": [
        {
          "output_type": "stream",
          "name": "stdout",
          "text": [
            "Enter the temperature: 55\n",
            "It's warm.\n"
          ]
        }
      ],
      "source": [
        "temperature = float(input(\"Enter the temperature: \"))\n",
        "\n",
        "if temperature < 10:\n",
        "    print(\"Wear a coat.\")\n",
        "elif 10 <= temperature <= 20:\n",
        "    print(\"Wear a jacket.\")\n",
        "else:\n",
        "    print(\"It's warm.\")\n"
      ]
    },
    {
      "cell_type": "markdown",
      "source": [
        "Number Comparison:"
      ],
      "metadata": {
        "id": "LsoBFs0cuuVs"
      }
    },
    {
      "cell_type": "code",
      "source": [
        "num1 = float(input(\"Enter the first number: \"))\n",
        "num2 = float(input(\"Enter the second number: \"))\n",
        "\n",
        "if num1 > num2:\n",
        "    print(f\"{num1} is greater than {num2}.\")\n",
        "elif num1 == num2:\n",
        "    print(f\"{num1} is equal to {num2}.\")\n",
        "else:\n",
        "    print(f\"{num1} is smaller than {num2}.\")\n"
      ],
      "metadata": {
        "colab": {
          "base_uri": "https://localhost:8080/"
        },
        "id": "uZoNbo4tupxX",
        "outputId": "d4bb3d19-33dd-48ed-af6f-1fa99f89682e"
      },
      "execution_count": 2,
      "outputs": [
        {
          "output_type": "stream",
          "name": "stdout",
          "text": [
            "Enter the first number: 4\n",
            "Enter the second number: 5\n",
            "4.0 is smaller than 5.0.\n"
          ]
        }
      ]
    },
    {
      "cell_type": "markdown",
      "source": [
        "Leap Year Checker:"
      ],
      "metadata": {
        "id": "bmRrzUlcuzGq"
      }
    },
    {
      "cell_type": "code",
      "source": [
        "year = int(input(\"Enter a year: \"))\n",
        "\n",
        "if (year % 4 == 0 and year % 100 != 0) or (year % 400 == 0):\n",
        "    print(f\"{year} is a leap year.\")\n",
        "else:\n",
        "    print(f\"{year} is not a leap year.\")\n"
      ],
      "metadata": {
        "colab": {
          "base_uri": "https://localhost:8080/"
        },
        "id": "W9siDf03u12C",
        "outputId": "5746bbd1-5616-4728-8af9-c45398c01b91"
      },
      "execution_count": 3,
      "outputs": [
        {
          "output_type": "stream",
          "name": "stdout",
          "text": [
            "Enter a year: 224\n",
            "224 is a leap year.\n"
          ]
        }
      ]
    },
    {
      "cell_type": "markdown",
      "source": [
        "Grading System:"
      ],
      "metadata": {
        "id": "j0uFw1Guu5Kl"
      }
    },
    {
      "cell_type": "code",
      "source": [
        "mark = int(input(\"Enter the student's mark: \"))\n",
        "\n",
        "if mark >= 90:\n",
        "    print(\"A\")\n",
        "elif 80 <= mark <= 89:\n",
        "    print(\"B\")\n",
        "elif 70 <= mark <= 79:\n",
        "    print(\"C\")\n",
        "else:\n",
        "    print(\"Fail\")\n"
      ],
      "metadata": {
        "colab": {
          "base_uri": "https://localhost:8080/"
        },
        "id": "1VapfXm6u7YW",
        "outputId": "945c2cc3-edba-4250-cd65-82063e88986a"
      },
      "execution_count": 4,
      "outputs": [
        {
          "output_type": "stream",
          "name": "stdout",
          "text": [
            "Enter the student's mark: 35\n",
            "Fail\n"
          ]
        }
      ]
    }
  ]
}