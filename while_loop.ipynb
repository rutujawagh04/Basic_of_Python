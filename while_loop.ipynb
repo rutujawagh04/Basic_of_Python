{
  "nbformat": 4,
  "nbformat_minor": 0,
  "metadata": {
    "colab": {
      "provenance": []
    },
    "kernelspec": {
      "name": "python3",
      "display_name": "Python 3"
    },
    "language_info": {
      "name": "python"
    }
  },
  "cells": [
    {
      "cell_type": "markdown",
      "source": [
        "##Basics of while Loop:\n",
        "\n",
        "Basic Syntax:"
      ],
      "metadata": {
        "id": "dzQ63UfMy2pc"
      }
    },
    {
      "cell_type": "code",
      "execution_count": 2,
      "metadata": {
        "id": "cXskIjx8yUyQ"
      },
      "outputs": [],
      "source": [
        "while condition:\n",
        "    # code to be executed as long as the condition is True\n"
      ]
    },
    {
      "cell_type": "code",
      "source": [
        "#Example\n",
        "count = 0\n",
        "while count < 5:\n",
        "    print(count)\n",
        "    count += 1\n"
      ],
      "metadata": {
        "colab": {
          "base_uri": "https://localhost:8080/"
        },
        "id": "APjrrCO6y-vC",
        "outputId": "4c3a5a42-b1ec-4634-af88-8de0dcbffb71"
      },
      "execution_count": 3,
      "outputs": [
        {
          "output_type": "stream",
          "name": "stdout",
          "text": [
            "0\n",
            "1\n",
            "2\n",
            "3\n",
            "4\n"
          ]
        }
      ]
    },
    {
      "cell_type": "code",
      "source": [
        "total = 0\n",
        "count = 1\n",
        "while count <= 5:\n",
        "    total += count\n",
        "    count += 1\n",
        "print(\"Sum of first 5 numbers:\", total)\n"
      ],
      "metadata": {
        "colab": {
          "base_uri": "https://localhost:8080/"
        },
        "id": "Dpo3AOLEz6_w",
        "outputId": "c09ecad1-09c5-4a05-d187-3eb6d86cc54f"
      },
      "execution_count": 4,
      "outputs": [
        {
          "output_type": "stream",
          "name": "stdout",
          "text": [
            "Sum of first 5 numbers: 15\n"
          ]
        }
      ]
    },
    {
      "cell_type": "markdown",
      "source": [
        "##break Statement:\n",
        "\n",
        "The break statement is used to exit a loop prematurely if a certain condition is met."
      ],
      "metadata": {
        "id": "10z2pR8fz-Mh"
      }
    },
    {
      "cell_type": "code",
      "source": [
        "count = 0\n",
        "while True:\n",
        "    print(count)\n",
        "    count += 1\n",
        "    if count == 5:\n",
        "        break\n"
      ],
      "metadata": {
        "colab": {
          "base_uri": "https://localhost:8080/"
        },
        "id": "7l0o0mIY0DDy",
        "outputId": "d2676693-70b2-41cb-ec49-95e883924be2"
      },
      "execution_count": 5,
      "outputs": [
        {
          "output_type": "stream",
          "name": "stdout",
          "text": [
            "0\n",
            "1\n",
            "2\n",
            "3\n",
            "4\n"
          ]
        }
      ]
    },
    {
      "cell_type": "markdown",
      "source": [
        "##continue Statement:\n",
        "\n",
        "The continue statement is used to skip the rest of the code inside the loop for the current iteration and move to the next iteration."
      ],
      "metadata": {
        "id": "eMagh3Z40L7U"
      }
    },
    {
      "cell_type": "code",
      "source": [
        "count = 0\n",
        "while count < 5:\n",
        "    count += 1\n",
        "    if count == 3:\n",
        "        continue\n",
        "    print(count)\n"
      ],
      "metadata": {
        "colab": {
          "base_uri": "https://localhost:8080/"
        },
        "id": "nvZ-TV160KeO",
        "outputId": "1ec79f53-f83d-43ec-855b-72501ba7a6ca"
      },
      "execution_count": 6,
      "outputs": [
        {
          "output_type": "stream",
          "name": "stdout",
          "text": [
            "1\n",
            "2\n",
            "4\n",
            "5\n"
          ]
        }
      ]
    },
    {
      "cell_type": "markdown",
      "source": [
        "##Guess the Number:\n",
        "\n",
        "Write a program that generates a random number between 1 and 10. Ask the user to guess the number, and use a while loop to keep asking until they guess correctly."
      ],
      "metadata": {
        "id": "fezLKRUc0q5K"
      }
    },
    {
      "cell_type": "code",
      "source": [
        "import random\n",
        "\n",
        "target_number = random.randint(1, 10)\n",
        "\n",
        "while True:\n",
        "    user_guess = int(input(\"Guess the number between 1 and 10: \"))\n",
        "\n",
        "    if user_guess == target_number:\n",
        "        print(\"Congratulations! You guessed the correct number.\")\n",
        "        break\n",
        "    else:\n",
        "        print(\"Try again. Incorrect guess.\")\n"
      ],
      "metadata": {
        "colab": {
          "base_uri": "https://localhost:8080/"
        },
        "id": "b7z2zxm60s3D",
        "outputId": "42263717-d0eb-4187-d33a-c87417badcae"
      },
      "execution_count": 7,
      "outputs": [
        {
          "output_type": "stream",
          "name": "stdout",
          "text": [
            "Guess the number between 1 and 10: 5\n",
            "Try again. Incorrect guess.\n",
            "Guess the number between 1 and 10: 2\n",
            "Try again. Incorrect guess.\n",
            "Guess the number between 1 and 10: 3\n",
            "Try again. Incorrect guess.\n",
            "Guess the number between 1 and 10: 1\n",
            "Try again. Incorrect guess.\n",
            "Guess the number between 1 and 10: 2\n",
            "Try again. Incorrect guess.\n",
            "Guess the number between 1 and 10: 8\n",
            "Congratulations! You guessed the correct number.\n"
          ]
        }
      ]
    },
    {
      "cell_type": "markdown",
      "source": [
        "##Multiplication Table:\n",
        "\n",
        "Write a program that takes a number as input and prints its multiplication table using a while loop."
      ],
      "metadata": {
        "id": "ABhW_iCP03X1"
      }
    },
    {
      "cell_type": "code",
      "source": [
        "number = int(input(\"Enter a number: \"))\n",
        "count = 1\n",
        "\n",
        "while count <= 10:\n",
        "    result = number * count\n",
        "    print(f\"{number} x {count} = {result}\")\n",
        "    count += 1\n"
      ],
      "metadata": {
        "colab": {
          "base_uri": "https://localhost:8080/"
        },
        "id": "-110HX_P0vfk",
        "outputId": "c28e666c-c28b-4db0-b8e6-fc9af64c8e4b"
      },
      "execution_count": 8,
      "outputs": [
        {
          "output_type": "stream",
          "name": "stdout",
          "text": [
            "Enter a number: 5\n",
            "5 x 1 = 5\n",
            "5 x 2 = 10\n",
            "5 x 3 = 15\n",
            "5 x 4 = 20\n",
            "5 x 5 = 25\n",
            "5 x 6 = 30\n",
            "5 x 7 = 35\n",
            "5 x 8 = 40\n",
            "5 x 9 = 45\n",
            "5 x 10 = 50\n"
          ]
        }
      ]
    },
    {
      "cell_type": "markdown",
      "source": [
        "##Factorial Calculation:\n",
        "\n",
        "Write a program that calculates the factorial of a given number using a while loop."
      ],
      "metadata": {
        "id": "l-i6C4uA17qY"
      }
    },
    {
      "cell_type": "code",
      "source": [
        "number = int(input(\"Enter a number: \"))\n",
        "factorial = 1\n",
        "count = 1\n",
        "\n",
        "while count <= number:\n",
        "    factorial *= count\n",
        "    count += 1\n",
        "\n",
        "print(f\"The factorial of {number} is: {factorial}\")\n"
      ],
      "metadata": {
        "colab": {
          "base_uri": "https://localhost:8080/"
        },
        "id": "-T0K-Seh14Wr",
        "outputId": "1cb6f7c3-61ef-4db2-9b70-bfe761184e26"
      },
      "execution_count": 9,
      "outputs": [
        {
          "output_type": "stream",
          "name": "stdout",
          "text": [
            "Enter a number: 5\n",
            "The factorial of 5 is: 120\n"
          ]
        }
      ]
    },
    {
      "cell_type": "markdown",
      "source": [
        "##Password Generator:\n",
        "\n",
        "Write a program that generates a random password and asks the user to enter it correctly. Use a while loop for input validation."
      ],
      "metadata": {
        "id": "DJ0SgnGh2NMv"
      }
    },
    {
      "cell_type": "code",
      "source": [
        "import random\n",
        "import string\n",
        "\n",
        "def generate_password(length):\n",
        "    characters = string.ascii_letters + string.digits + string.punctuation\n",
        "    password = ''.join(random.choice(characters) for _ in range(length))\n",
        "    return password\n",
        "\n",
        "generated_password = generate_password(8)\n",
        "\n",
        "while True:\n",
        "    user_input = input(f\"Enter the generated password: {generated_password}\\n\")\n",
        "\n",
        "    if user_input == generated_password:\n",
        "        print(\"Password is correct. Access granted!\")\n",
        "        break\n",
        "    else:\n",
        "        print(\"Incorrect password. Try again.\")\n"
      ],
      "metadata": {
        "colab": {
          "base_uri": "https://localhost:8080/"
        },
        "id": "EeXYFG0T2Jas",
        "outputId": "d256864e-35ac-4b20-db1e-e5e998582883"
      },
      "execution_count": 10,
      "outputs": [
        {
          "output_type": "stream",
          "name": "stdout",
          "text": [
            "Enter the generated password: MWbi>\\,\"\n",
            "MWbi>\\,\n",
            "Incorrect password. Try again.\n",
            "Enter the generated password: MWbi>\\,\"\n",
            "MWbi>\\,\"\n",
            "Password is correct. Access granted!\n"
          ]
        }
      ]
    },
    {
      "cell_type": "code",
      "source": [],
      "metadata": {
        "id": "mpQzzzrY2ZtS"
      },
      "execution_count": null,
      "outputs": []
    }
  ]
}